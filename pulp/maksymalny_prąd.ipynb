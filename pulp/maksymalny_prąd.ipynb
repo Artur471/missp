{
  "nbformat": 4,
  "nbformat_minor": 0,
  "metadata": {
    "colab": {
      "name": "maksymalny prąd.ipynb",
      "provenance": [],
      "authorship_tag": "ABX9TyOvhR7yMwYp7W34qQ82yFPq",
      "include_colab_link": true
    },
    "kernelspec": {
      "name": "python3",
      "display_name": "Python 3"
    }
  },
  "cells": [
    {
      "cell_type": "markdown",
      "metadata": {
        "id": "view-in-github",
        "colab_type": "text"
      },
      "source": [
        "<a href=\"https://colab.research.google.com/github/Artur471/missp/blob/master/pulp/maksymalny_pr%C4%85d.ipynb\" target=\"_parent\"><img src=\"https://colab.research.google.com/assets/colab-badge.svg\" alt=\"Open In Colab\"/></a>"
      ]
    },
    {
      "cell_type": "code",
      "metadata": {
        "id": "Ze8Va86QS_PI"
      },
      "source": [
        "!pip install pulp\r\n",
        "\r\n",
        "!sudo apt-get install coinor-cbc glpk-utils coinor-clp"
      ],
      "execution_count": null,
      "outputs": []
    },
    {
      "cell_type": "code",
      "metadata": {
        "colab": {
          "base_uri": "https://localhost:8080/"
        },
        "id": "20fC_CaHTN_P",
        "outputId": "4c255672-7986-4180-e701-4f4d3c2ecbc1"
      },
      "source": [
        "from pulp import *\r\n",
        "\r\n",
        "R1 = 8\r\n",
        "R2 = 6\r\n",
        "R3 = 4\r\n",
        "R4 = 10\r\n",
        "R5 = 8\r\n",
        "\r\n",
        "prob = LpProblem(\"Maksymalny prąd w układzie\",LpMaximize)\r\n",
        "I1 = LpVariable(\"Prąd_I1\", 0, 2)\r\n",
        "I2 = LpVariable(\"Prąd_I2\", 0, 3)\r\n",
        "I3 = LpVariable(\"Prąd_I3\", 0, 4)\r\n",
        "I4 = LpVariable(\"Prąd_I4\", 0, 2)\r\n",
        "I5 = LpVariable(\"Prąd_I5\", 0, 2)\r\n",
        "\r\n",
        "prob += (I1+I2)*(R1*R2)/(R1+R2) + I3*R3 + (I4+I5)*(R4*R5)/(R4+R5) , \"Funkcja kosztu\"\r\n",
        "\r\n",
        "prob += I1*R1 == I2*R2\r\n",
        "prob += I4*R4 == I5*R5\r\n",
        "prob += I1+I2 == I3\r\n",
        "prob += I4+I5 == I3\r\n",
        "prob += I1 <= 2\r\n",
        "prob += I2 <= 3\r\n",
        "prob += I3 <= 4\r\n",
        "prob += I4 <= 2\r\n",
        "prob += I5 <= 2\r\n",
        "\r\n",
        "prob.solve()\r\n",
        "print(\"Status:\", LpStatus[prob.status])\r\n",
        "\r\n",
        "for v in prob.variables():\r\n",
        "  print(v.name, \"=\", v.varValue,\"A\")\r\n",
        "print(I1)\r\n",
        "\r\n",
        "print(\"Maksymalny prąd jaki może popłynąć w układzie wynosi:{}A\".format(I3.varValue))"
      ],
      "execution_count": 3,
      "outputs": [
        {
          "output_type": "stream",
          "text": [
            "Status: Optimal\n",
            "Prąd_I1 = 1.5428571 A\n",
            "Prąd_I2 = 2.0571429 A\n",
            "Prąd_I3 = 3.6 A\n",
            "Prąd_I4 = 1.6 A\n",
            "Prąd_I5 = 2.0 A\n",
            "Prąd_I1\n",
            "Maksymalny prąd jaki może popłynąć w układzie wynosi:3.6A\n"
          ],
          "name": "stdout"
        },
        {
          "output_type": "stream",
          "text": [
            "/usr/local/lib/python3.6/dist-packages/pulp/pulp.py:1199: UserWarning: Spaces are not permitted in the name. Converted to '_'\n",
            "  warnings.warn(\"Spaces are not permitted in the name. Converted to '_'\")\n"
          ],
          "name": "stderr"
        }
      ]
    }
  ]
}