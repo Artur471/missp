{
  "nbformat": 4,
  "nbformat_minor": 0,
  "metadata": {
    "colab": {
      "name": "whiskas.ipynb",
      "provenance": [],
      "authorship_tag": "ABX9TyM4YyA20YqTvYpXmaqXwQ8l",
      "include_colab_link": true
    },
    "kernelspec": {
      "name": "python3",
      "display_name": "Python 3"
    }
  },
  "cells": [
    {
      "cell_type": "markdown",
      "metadata": {
        "id": "view-in-github",
        "colab_type": "text"
      },
      "source": [
        "<a href=\"https://colab.research.google.com/github/Artur471/missp/blob/master/pulp/whiskas.ipynb\" target=\"_parent\"><img src=\"https://colab.research.google.com/assets/colab-badge.svg\" alt=\"Open In Colab\"/></a>"
      ]
    },
    {
      "cell_type": "code",
      "metadata": {
        "colab": {
          "base_uri": "https://localhost:8080/"
        },
        "id": "IvchUZuuM-_o",
        "outputId": "112c9543-ebb0-4602-e19d-f3d4ae48d72f"
      },
      "source": [
        "!pip install pulp\r\n",
        "\r\n",
        "!sudo apt-get install coinor-cbc glpk-utils coinor-clp"
      ],
      "execution_count": 3,
      "outputs": [
        {
          "output_type": "stream",
          "text": [
            "Requirement already satisfied: pulp in /usr/local/lib/python3.6/dist-packages (2.4)\n",
            "Requirement already satisfied: amply>=0.1.2 in /usr/local/lib/python3.6/dist-packages (from pulp) (0.1.4)\n",
            "Requirement already satisfied: docutils>=0.3 in /usr/local/lib/python3.6/dist-packages (from amply>=0.1.2->pulp) (0.16)\n",
            "Requirement already satisfied: pyparsing in /usr/local/lib/python3.6/dist-packages (from amply>=0.1.2->pulp) (2.4.7)\n",
            "Reading package lists... Done\n",
            "Building dependency tree       \n",
            "Reading state information... Done\n",
            "coinor-cbc is already the newest version (2.9.9+repack1-1).\n",
            "coinor-clp is already the newest version (1.16.11+repack1-1).\n",
            "glpk-utils is already the newest version (4.65-1).\n",
            "0 upgraded, 0 newly installed, 0 to remove and 15 not upgraded.\n"
          ],
          "name": "stdout"
        }
      ]
    },
    {
      "cell_type": "markdown",
      "metadata": {
        "id": "aEMOzcoVOLy_"
      },
      "source": [
        "# Zadania:\r\n",
        "\r\n",
        "1. przeczytaj materiały dotyczące pulp ze strony internetowej https://coin-or.github.io/pulp/main/index.html oraz przejdź przez blending problem (przepisz do swojego notebooka)\r\n",
        "\r\n",
        "2. w blending problem dodaj zmienną decyzyjną. Stwórz zmienną która pojawi się w końcowym składzie produktu (tj. wartość zmiennej będzie miała niezerową postać)\r\n",
        "\r\n",
        "3. Dodaj ograniczenie co do zawartości witaminy B \r\n",
        "\r\n",
        "Zawartość:\r\n",
        "\r\n",
        "| Nazwa      | zawartość ug/100g |\r\n",
        "|------------|-------------------|\r\n",
        "| chicken    | 0.3               |\r\n",
        "| beef       | 2.6               |\r\n",
        "| mutton     | 2.6               |\r\n",
        "| rice       | 0                 |\r\n",
        "| wheat bran | 0                 |\r\n",
        "| gel        | 0                 |\r\n",
        "| sardines   | 8.9               |\r\n",
        "\r\n",
        "Kot ma zjeść minimum 0.24 ug na kilogram masy więc około\r\n",
        "0.8 ug dziennie\r\n",
        "\r\n",
        "4. Na końcu ma pojawiać się zdanie podsumowujące wynik, w stylu:\r\n",
        "Końcowy produkt będzie kosztować {}, będzie miał w składzie {nazwa}: {} %, {nastepna nazwa}: {} %\r\n",
        "\r\n",
        "Takie zdanie można skleić z części generowanych automatycznie:\r\n"
      ]
    },
    {
      "cell_type": "code",
      "metadata": {
        "colab": {
          "base_uri": "https://localhost:8080/"
        },
        "id": "b-Mn9FddOBNl",
        "outputId": "f02944cd-b3f6-4b9b-8c7c-53ba1fd6e92c"
      },
      "source": [
        "sklejone_produkt_cena = [\":\".join((produkt, str(cena))) for produkt,cena in zip([\"jabłko\",\"banan\"],[5,10])]\r\n",
        "print(sklejone_produkt_cena)\r\n",
        "sklejona_calosc = \", \".join(sklejone_produkt_cena)\r\n",
        "\r\n",
        "print(sklejona_calosc)"
      ],
      "execution_count": 2,
      "outputs": [
        {
          "output_type": "stream",
          "text": [
            "['jabłko:5', 'banan:10']\n",
            "jabłko:5, banan:10\n"
          ],
          "name": "stdout"
        }
      ]
    },
    {
      "cell_type": "code",
      "metadata": {
        "colab": {
          "base_uri": "https://localhost:8080/"
        },
        "id": "yKgeL0S6OQTV",
        "outputId": "60357629-7ccf-4184-e5fa-f6060be0ef9b"
      },
      "source": [
        "from pulp import *\r\n",
        "\r\n",
        "gatunki_mies = [\"kurczak\", \"wolowina\", \"baranina\"]\r\n",
        "\r\n",
        "prob = LpProblem(\"The Whiskas Problem\",LpMinimize)\r\n",
        "\r\n",
        "x1 = LpVariable(\"ChickenPercent\", 0)\r\n",
        "x2 = LpVariable(\"BeefPercent\", 0)\r\n",
        "x3 = LpVariable(\"MuttonPercent\",0)\r\n",
        "\r\n",
        "prob += 0.013*x1 + 0.008*x2 + 0.009*x3, \"Total Cost of Ingreduents per can\"\r\n",
        "\r\n",
        "prob += x1 + x2 + x3 == 100, \"PercentagesSum\"\r\n",
        "prob += 0.100*x1 + 0.200*x2 + 0.250*x3 >= 8.0, \"ProteinRequirement\"\r\n",
        "prob += 0.080*x1 + 0.100*x2 + 0.050*x3 >= 6.0, \"FatRequirement\"\r\n",
        "prob += 0.001*x2 + 0.005*x2 + 0.002*x3 <= 2.0, \"FiberRequirement\"\r\n",
        "prob += 0.002*x1 + 0.005*x2 + 0.004*x3 <= 0.4, \"SaltRequirement\"\r\n",
        "prob += 0.0003*x1 + 0.0026*x2 + 0.0026*x2 >= 0.0008, \"VitaminB_Requriment\"\r\n",
        "\r\n",
        "prob.writeLP(\"WhiskasModel.lp\")\r\n",
        "prob.solve()\r\n",
        "\r\n",
        "print (\"Status:\", LpStatus[prob.status])\r\n",
        "\r\n",
        "for v in prob.variables():\r\n",
        "  print (v.name, \"=\", v.varValue)\r\n",
        "\r\n",
        "podsumowanie_zawartosc = [str(a.varValue) for a in prob.objective]\r\n",
        "\r\n",
        "podsumowanie_wyniku = [\"% \".join((a, b)) for a, b in zip(podsumowanie_zawartosc, gatunki_mies)]\r\n",
        "podsumowanie_wyniku = \", \".join(podsumowanie_wyniku)\r\n",
        "\r\n",
        "print(\"Total Cost of Ingredients per can = \", value(prob.objective))\r\n",
        "print(\"Końcowy produkt będzie kosztować {}, będzie miał w składzie: {}\".format(value(prob.objective), podsumowanie_wyniku))"
      ],
      "execution_count": 5,
      "outputs": [
        {
          "output_type": "stream",
          "text": [
            "Status: Optimal\n",
            "BeefPercent = 15.384615\n",
            "ChickenPercent = 7.6923077\n",
            "MuttonPercent = 76.923077\n",
            "Total Cost of Ingredients per can =  0.9153846131000001\n",
            "Końcowy produkt będzie kosztować 0.9153846131000001, będzie miał w składzie: 7.6923077% kurczak, 15.384615% wolowina, 76.923077% baranina\n"
          ],
          "name": "stdout"
        },
        {
          "output_type": "stream",
          "text": [
            "/usr/local/lib/python3.6/dist-packages/pulp/pulp.py:1199: UserWarning: Spaces are not permitted in the name. Converted to '_'\n",
            "  warnings.warn(\"Spaces are not permitted in the name. Converted to '_'\")\n"
          ],
          "name": "stderr"
        }
      ]
    },
    {
      "cell_type": "code",
      "metadata": {
        "colab": {
          "base_uri": "https://localhost:8080/"
        },
        "id": "13uHIbRgOlQf",
        "outputId": "8de9a62f-cd1d-4978-9bf3-00ea3d9b9567"
      },
      "source": [
        "from pulp import *\r\n",
        "# Creates a list of the Ingredients\r\n",
        "Ingredients = ['CHICKEN', 'BEEF', 'MUTTON', 'RICE', 'WHEAT', 'GEL', 'PEAR']\r\n",
        "\r\n",
        "# A dictionary of the costs of each of the Ingredients is created\r\n",
        "costs = {'CHICKEN': 0.013, \r\n",
        "         'BEEF': 0.008, \r\n",
        "         'MUTTON': 0.010, \r\n",
        "         'RICE': 0.002, \r\n",
        "         'WHEAT': 0.005, \r\n",
        "         'GEL': 0.001,\r\n",
        "         'PEAR': 0.0005}\r\n",
        "\r\n",
        "# A dictionary of the protein percent in each of the Ingredients is created\r\n",
        "proteinPercent = {'CHICKEN': 0.100, \r\n",
        "                  'BEEF': 0.200, \r\n",
        "                  'MUTTON': 0.150, \r\n",
        "                  'RICE': 0.000, \r\n",
        "                  'WHEAT': 0.040, \r\n",
        "                  'GEL': 0.000,\r\n",
        "                  'PEAR': 0.005}\r\n",
        "\r\n",
        "# A dictionary of the fat percent in each of the Ingredients is created\r\n",
        "fatPercent = {'CHICKEN': 0.080, \r\n",
        "              'BEEF': 0.100, \r\n",
        "              'MUTTON': 0.110, \r\n",
        "              'RICE': 0.010, \r\n",
        "              'WHEAT': 0.010, \r\n",
        "              'GEL': 0.000,\r\n",
        "              'PEAR': 0.001}\r\n",
        "\r\n",
        "# A dictionary of the fibre percent in each of the Ingredients is created\r\n",
        "fibrePercent = {'CHICKEN': 0.001, \r\n",
        "                'BEEF': 0.005, \r\n",
        "                'MUTTON': 0.003, \r\n",
        "                'RICE': 0.100, \r\n",
        "                'WHEAT': 0.150, \r\n",
        "                'GEL': 0.000,\r\n",
        "                'PEAR': 0.200}\r\n",
        "\r\n",
        "# A dictionary of the salt percent in each of the Ingredients is created\r\n",
        "saltPercent = {'CHICKEN': 0.002, \r\n",
        "               'BEEF': 0.005, \r\n",
        "               'MUTTON': 0.007, \r\n",
        "               'RICE': 0.002, \r\n",
        "               'WHEAT': 0.008, \r\n",
        "               'GEL': 0.000,\r\n",
        "               'PEAR': 0.0001}\r\n",
        "\r\n",
        "vitaminB_Percent = {'CHICKEN': 0.001, \r\n",
        "               'BEEF': 0.003, \r\n",
        "               'MUTTON': 0.002, \r\n",
        "               'RICE': 0.004, \r\n",
        "               'WHEAT': 0.003, \r\n",
        "               'GEL': 0.000,\r\n",
        "               'PEAR': 0.25}\r\n",
        "\r\n",
        "# Create the 'prob' variable to contain the problem data\r\n",
        "prob = LpProblem(\"The Whiskas Problem\", LpMinimize)\r\n",
        "\r\n",
        "# A dictionary called 'ingredient_vars' is created to contain the referenced Variables\r\n",
        "ingredient_vars = LpVariable.dicts(\"Ingr\",Ingredients,0)\r\n",
        "\r\n",
        "# The objective function is added to 'prob' first\r\n",
        "prob += lpSum([costs[i]*ingredient_vars[i] for i in Ingredients]), \"Total Cost of Ingredients per can\"\r\n",
        "\r\n",
        "# The five constraints are added to 'prob'\r\n",
        "prob += lpSum([ingredient_vars[i] for i in Ingredients]) == 100, \"PercentagesSum\"\r\n",
        "prob += lpSum([proteinPercent[i] * ingredient_vars[i] for i in Ingredients]) >= 8.0, \"ProteinRequirement\"\r\n",
        "prob += lpSum([fatPercent[i] * ingredient_vars[i] for i in Ingredients]) >= 6.0, \"FatRequirement\"\r\n",
        "prob += lpSum([fibrePercent[i] * ingredient_vars[i] for i in Ingredients]) <= 2.0, \"FibreRequirement\"\r\n",
        "prob += lpSum([saltPercent[i] * ingredient_vars[i] for i in Ingredients]) <= 0.4, \"SaltRequirement\"\r\n",
        "prob += lpSum([vitaminB_Percent[i] * ingredient_vars[i] for i in Ingredients]) >= 0.0008, \"VitaminB_Requriment\"\r\n",
        "\r\n",
        "prob.writeLP(\"WhiskasModel.lp\")\r\n",
        "prob.solve()\r\n",
        "\r\n",
        "print (\"Status:\", LpStatus[prob.status])\r\n",
        "\r\n",
        "for v in prob.variables():\r\n",
        "  print (v.name, \"=\", v.varValue)\r\n",
        "\r\n",
        "podsumowanie_zawartosc = [str(a.varValue) for a in prob.objective]\r\n",
        "print(podsumowanie_zawartosc)\r\n",
        "podsumowanie_wyniku = [\"% \".join((a, b)) for a, b in zip(podsumowanie_zawartosc, Ingredients)]\r\n",
        "podsumowanie_wyniku = \", \".join(podsumowanie_wyniku)\r\n",
        "print(\"Total Cost of Ingredients per can = \", value(prob.objective))\r\n",
        "print(\"Końcowy produkt będzie kosztować {}, będzie miał w składzie: {}\".format(value(prob.objective), podsumowanie_wyniku))\r\n"
      ],
      "execution_count": 6,
      "outputs": [
        {
          "output_type": "stream",
          "text": [
            "Status: Optimal\n",
            "Ingr_BEEF = 59.914979\n",
            "Ingr_CHICKEN = 0.0\n",
            "Ingr_GEL = 31.582896\n",
            "Ingr_MUTTON = 0.0\n",
            "Ingr_PEAR = 8.5021255\n",
            "Ingr_RICE = 0.0\n",
            "Ingr_WHEAT = 0.0\n",
            "['0.0', '59.914979', '0.0', '0.0', '0.0', '31.582896', '8.5021255']\n",
            "Total Cost of Ingredients per can =  0.51515379075\n",
            "Końcowy produkt będzie kosztować 0.51515379075, będzie miał w składzie: 0.0% CHICKEN, 59.914979% BEEF, 0.0% MUTTON, 0.0% RICE, 0.0% WHEAT, 31.582896% GEL, 8.5021255% PEAR\n"
          ],
          "name": "stdout"
        },
        {
          "output_type": "stream",
          "text": [
            "/usr/local/lib/python3.6/dist-packages/pulp/pulp.py:1199: UserWarning: Spaces are not permitted in the name. Converted to '_'\n",
            "  warnings.warn(\"Spaces are not permitted in the name. Converted to '_'\")\n"
          ],
          "name": "stderr"
        }
      ]
    }
  ]
}