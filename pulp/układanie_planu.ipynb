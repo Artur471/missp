{
  "nbformat": 4,
  "nbformat_minor": 0,
  "metadata": {
    "colab": {
      "name": "układanie planu.ipynb",
      "provenance": [],
      "authorship_tag": "ABX9TyNV+U1WJlOf0ExJyJ9UC69d",
      "include_colab_link": true
    },
    "kernelspec": {
      "name": "python3",
      "display_name": "Python 3"
    }
  },
  "cells": [
    {
      "cell_type": "markdown",
      "metadata": {
        "id": "view-in-github",
        "colab_type": "text"
      },
      "source": [
        "<a href=\"https://colab.research.google.com/github/Artur471/missp/blob/master/pulp/uk%C5%82adanie_planu.ipynb\" target=\"_parent\"><img src=\"https://colab.research.google.com/assets/colab-badge.svg\" alt=\"Open In Colab\"/></a>"
      ]
    },
    {
      "cell_type": "code",
      "metadata": {
        "id": "M-ZS2tuWUFLw"
      },
      "source": [
        "!pip install pulp\r\n",
        "\r\n",
        "!sudo apt-get install coinor-cbc glpk-utils coinor-clp"
      ],
      "execution_count": null,
      "outputs": []
    },
    {
      "cell_type": "code",
      "metadata": {
        "colab": {
          "base_uri": "https://localhost:8080/"
        },
        "id": "tM4AzEZIUP5C",
        "outputId": "f0b5bcf1-6852-49e7-8015-dc5401a17aa4"
      },
      "source": [
        "from pulp import *\r\n",
        "\r\n",
        "dni_tygodnia = [\"Poniedziałek\",\"Wtorek\",\"Środa\",\"Czwartek\",\"Piątek\",]\r\n",
        "lista_chetnych = [\"Ania\",\"Stefan\",\"Hektor\",\"Olaf\",\"Lidlia\",\"Piotr\"]\r\n",
        "stawka_godzinowa = {\"Ania\": 100, \"Stefan\": 50, \"Hektor\": 60, \"Olaf\": 40, \"Lidlia\": 110, \"Piotr\": 70}\r\n",
        "\r\n",
        "prob = LpProblem('Minimalizacja_utrzymania_sklepu', LpMinimize)\r\n",
        "\r\n",
        "poniedziałek = LpVariable.dict(\"Poniedziałek\",\r\n",
        "                           (osoba for osoba in lista_chetnych), cat = 'Binary')\r\n",
        "wtorek = LpVariable.dict(\"Wtorek\",\r\n",
        "                           (osoba for osoba in lista_chetnych), cat = 'Binary')\r\n",
        "środa = LpVariable.dict(\"Środa\",\r\n",
        "                           (osoba for osoba in lista_chetnych), cat = 'Binary')\r\n",
        "czwartek = LpVariable.dict(\"Czwartek\",\r\n",
        "                           (osoba for osoba in lista_chetnych), cat = 'Binary')\r\n",
        "piątek = LpVariable.dict(\"Piątek\",\r\n",
        "                           (osoba for osoba in lista_chetnych), cat = 'Binary')\r\n",
        "\r\n",
        "prob += 4*(lpSum([stawka_godzinowa[i]*poniedziałek[i] for i in lista_chetnych]) + lpSum([stawka_godzinowa[i]*wtorek[i] for i in lista_chetnych])\r\n",
        "           + lpSum([stawka_godzinowa[i]*środa[i] for i in lista_chetnych]) + lpSum([stawka_godzinowa[i]*czwartek[i] for i in lista_chetnych])\r\n",
        "           + lpSum([stawka_godzinowa[i]*piątek[i] for i in lista_chetnych]))\r\n",
        "\r\n",
        "prob += wtorek[\"Stefan\"] + środa[\"Stefan\"] + czwartek[\"Stefan\"] + piątek[\"Stefan\"] == 0\r\n",
        "prob += czwartek[\"Hektor\"] + piątek[\"Hektor\"] == 0\r\n",
        "prob += poniedziałek[\"Lidlia\"] + wtorek[\"Lidlia\"] + środa[\"Lidlia\"] == 0\r\n",
        "prob += czwartek[\"Piotr\"] + piątek[\"Piotr\"] == 0\r\n",
        "\r\n",
        "for i in lista_chetnych:\r\n",
        "  prob += poniedziałek[i] + wtorek[i] + środa[i] + czwartek[i] + piątek[i] <= 3\r\n",
        "\r\n",
        "\r\n",
        "prob += lpSum([poniedziałek[i] for i in lista_chetnych]) == 2\r\n",
        "prob += lpSum([wtorek[i] for i in lista_chetnych]) == 1\r\n",
        "prob += lpSum([środa[i] for i in lista_chetnych]) == 1\r\n",
        "prob += lpSum([czwartek[i] for i in lista_chetnych]) == 1\r\n",
        "prob += lpSum([piątek[i] for i in lista_chetnych]) == 3\r\n",
        "\r\n",
        "prob.solve()\r\n",
        "\r\n",
        "for v in prob.variables():\r\n",
        "      if v.varValue == True:\r\n",
        "        print(v.name, \"=\", v.varValue)\r\n",
        "print(\"Minimalny koszt wynagrodzeń pracowników wynosi: {}zł \".format(value(prob.objective)))"
      ],
      "execution_count": 2,
      "outputs": [
        {
          "output_type": "stream",
          "text": [
            "Czwartek_Olaf = 1.0\n",
            "Piątek_Ania = 1.0\n",
            "Piątek_Lidlia = 1.0\n",
            "Piątek_Olaf = 1.0\n",
            "Poniedziałek_Hektor = 1.0\n",
            "Poniedziałek_Stefan = 1.0\n",
            "Wtorek_Hektor = 1.0\n",
            "Środa_Olaf = 1.0\n",
            "Minimalny koszt wynagrodzeń pracowników wynosi: 2000.0zł \n"
          ],
          "name": "stdout"
        }
      ]
    }
  ]
}