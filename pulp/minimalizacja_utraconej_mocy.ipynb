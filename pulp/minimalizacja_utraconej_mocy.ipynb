{
  "nbformat": 4,
  "nbformat_minor": 0,
  "metadata": {
    "colab": {
      "name": "minimalizacja utraconej mocy.ipynb",
      "provenance": [],
      "authorship_tag": "ABX9TyMiKp59vqlaCB+VeQnTY0wu",
      "include_colab_link": true
    },
    "kernelspec": {
      "name": "python3",
      "display_name": "Python 3"
    }
  },
  "cells": [
    {
      "cell_type": "markdown",
      "metadata": {
        "id": "view-in-github",
        "colab_type": "text"
      },
      "source": [
        "<a href=\"https://colab.research.google.com/github/Artur471/missp/blob/master/pulp/minimalizacja_utraconej_mocy.ipynb\" target=\"_parent\"><img src=\"https://colab.research.google.com/assets/colab-badge.svg\" alt=\"Open In Colab\"/></a>"
      ]
    },
    {
      "cell_type": "code",
      "metadata": {
        "id": "7taH0k3sTpMm"
      },
      "source": [
        "!pip install pulp\r\n",
        "\r\n",
        "!sudo apt-get install coinor-cbc glpk-utils coinor-clp"
      ],
      "execution_count": null,
      "outputs": []
    },
    {
      "cell_type": "code",
      "metadata": {
        "colab": {
          "base_uri": "https://localhost:8080/"
        },
        "id": "u8G69xngTw_B",
        "outputId": "c525cd84-b697-419d-d5c5-2658692031d4"
      },
      "source": [
        "from pulp import *\r\n",
        "\r\n",
        "U = [6, 10, 4, 7, 3]\r\n",
        "R = []\r\n",
        "prob = LpProblem(\"Maksymalny prąd w układzie\",LpMinimize)\r\n",
        "I1 = LpVariable(\"Prąd_I1\", 3, 5)\r\n",
        "I2 = LpVariable(\"Prąd_I2\", 1, 3)\r\n",
        "I3 = LpVariable(\"Prąd_I3\", 1, 3)\r\n",
        "I4 = LpVariable(\"Prąd_I4\", 1, 3)\r\n",
        "I5 = LpVariable(\"Prąd_I5\", 3, 5)\r\n",
        "\r\n",
        "prob += U[0]*I1 + U[1]*I2 + U[2]*I3 + U[3]*I4 + U[4]*I5 , \"Funkcja kosztu\"\r\n",
        "\r\n",
        "prob += I2+I3 == I5\r\n",
        "prob += I4+I5 == I1 + I2\r\n",
        "prob += I4+I3 == I1\r\n",
        "prob.solve()\r\n",
        "\r\n",
        "print(\"Status:\", LpStatus[prob.status])\r\n",
        "\r\n",
        "for i, v in enumerate(prob.variables()):\r\n",
        "  resistant_value = U[i] * 1/v.varValue * 1000\r\n",
        "  R.append(resistant_value)\r\n",
        "  print(\"R{} = {}\\u03A9\".format(i+1, resistant_value))\r\n",
        "\r\n",
        "Pmin = (U[0]*I1.varValue + U[1]*I2.varValue + U[2]*I3.varValue + U[3]*I4.varValue + U[4]*I5.varValue) *0.001\r\n",
        "print(\"Pmin:{}W\".format(Pmin))\r\n",
        "\r\n",
        "for v in prob.variables():\r\n",
        "  print(v.name, \"=\", v.varValue,\"mA\")"
      ],
      "execution_count": 3,
      "outputs": [
        {
          "output_type": "stream",
          "text": [
            "Status: Optimal\n",
            "R1 = 2000.0Ω\n",
            "R2 = 10000.0Ω\n",
            "R3 = 2000.0Ω\n",
            "R4 = 7000.0Ω\n",
            "R5 = 1000.0Ω\n",
            "Pmin:0.052000000000000005W\n",
            "Prąd_I1 = 3.0 mA\n",
            "Prąd_I2 = 1.0 mA\n",
            "Prąd_I3 = 2.0 mA\n",
            "Prąd_I4 = 1.0 mA\n",
            "Prąd_I5 = 3.0 mA\n"
          ],
          "name": "stdout"
        },
        {
          "output_type": "stream",
          "text": [
            "/usr/local/lib/python3.6/dist-packages/pulp/pulp.py:1199: UserWarning: Spaces are not permitted in the name. Converted to '_'\n",
            "  warnings.warn(\"Spaces are not permitted in the name. Converted to '_'\")\n"
          ],
          "name": "stderr"
        }
      ]
    }
  ]
}